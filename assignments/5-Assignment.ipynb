{
 "cells": [
  {
   "cell_type": "code",
   "execution_count": 64,
   "metadata": {},
   "outputs": [
    {
     "data": {
      "text/html": [
       "<div>\n",
       "<style scoped>\n",
       "    .dataframe tbody tr th:only-of-type {\n",
       "        vertical-align: middle;\n",
       "    }\n",
       "\n",
       "    .dataframe tbody tr th {\n",
       "        vertical-align: top;\n",
       "    }\n",
       "\n",
       "    .dataframe thead th {\n",
       "        text-align: right;\n",
       "    }\n",
       "</style>\n",
       "<table border=\"1\" class=\"dataframe\">\n",
       "  <thead>\n",
       "    <tr style=\"text-align: right;\">\n",
       "      <th></th>\n",
       "      <th>平均気温</th>\n",
       "      <th>最高気温</th>\n",
       "      <th>最低気温</th>\n",
       "      <th>降水量の合計</th>\n",
       "      <th>平均風速</th>\n",
       "      <th>最大風速</th>\n",
       "      <th>最大瞬間風速</th>\n",
       "      <th>平均蒸気圧</th>\n",
       "      <th>平均湿度</th>\n",
       "      <th>最小相対湿度</th>\n",
       "      <th>平均現地気圧</th>\n",
       "      <th>平均海面気圧</th>\n",
       "      <th>最低海面気圧</th>\n",
       "    </tr>\n",
       "  </thead>\n",
       "  <tbody>\n",
       "    <tr>\n",
       "      <th>0</th>\n",
       "      <td>22.4</td>\n",
       "      <td>23.6</td>\n",
       "      <td>20.3</td>\n",
       "      <td>0.0</td>\n",
       "      <td>2.8</td>\n",
       "      <td>5.0</td>\n",
       "      <td>7.6</td>\n",
       "      <td>18.3</td>\n",
       "      <td>67</td>\n",
       "      <td>56</td>\n",
       "      <td>1013.9</td>\n",
       "      <td>1016.7</td>\n",
       "      <td>1015.2</td>\n",
       "    </tr>\n",
       "    <tr>\n",
       "      <th>1</th>\n",
       "      <td>18.2</td>\n",
       "      <td>21.3</td>\n",
       "      <td>14.9</td>\n",
       "      <td>6.5</td>\n",
       "      <td>2.8</td>\n",
       "      <td>5.3</td>\n",
       "      <td>9.8</td>\n",
       "      <td>16.2</td>\n",
       "      <td>78</td>\n",
       "      <td>63</td>\n",
       "      <td>1016.9</td>\n",
       "      <td>1019.8</td>\n",
       "      <td>1017.5</td>\n",
       "    </tr>\n",
       "    <tr>\n",
       "      <th>2</th>\n",
       "      <td>25.8</td>\n",
       "      <td>31.1</td>\n",
       "      <td>22.3</td>\n",
       "      <td>0.0</td>\n",
       "      <td>2.7</td>\n",
       "      <td>5.3</td>\n",
       "      <td>10.4</td>\n",
       "      <td>25.9</td>\n",
       "      <td>79</td>\n",
       "      <td>52</td>\n",
       "      <td>1006.5</td>\n",
       "      <td>1009.3</td>\n",
       "      <td>1004.7</td>\n",
       "    </tr>\n",
       "    <tr>\n",
       "      <th>3</th>\n",
       "      <td>18.4</td>\n",
       "      <td>23.0</td>\n",
       "      <td>16.2</td>\n",
       "      <td>0.0</td>\n",
       "      <td>2.8</td>\n",
       "      <td>5.2</td>\n",
       "      <td>9.4</td>\n",
       "      <td>16.7</td>\n",
       "      <td>80</td>\n",
       "      <td>53</td>\n",
       "      <td>1018.5</td>\n",
       "      <td>1021.4</td>\n",
       "      <td>1017.5</td>\n",
       "    </tr>\n",
       "    <tr>\n",
       "      <th>4</th>\n",
       "      <td>25.7</td>\n",
       "      <td>29.6</td>\n",
       "      <td>23.0</td>\n",
       "      <td>0.0</td>\n",
       "      <td>1.8</td>\n",
       "      <td>3.5</td>\n",
       "      <td>5.6</td>\n",
       "      <td>26.6</td>\n",
       "      <td>81</td>\n",
       "      <td>64</td>\n",
       "      <td>1015.6</td>\n",
       "      <td>1018.4</td>\n",
       "      <td>1016.7</td>\n",
       "    </tr>\n",
       "  </tbody>\n",
       "</table>\n",
       "</div>"
      ],
      "text/plain": [
       "   平均気温  最高気温  最低気温  降水量の合計  平均風速  最大風速  最大瞬間風速  平均蒸気圧  平均湿度  最小相対湿度  平均現地気圧  \\\n",
       "0  22.4  23.6  20.3     0.0   2.8   5.0     7.6   18.3    67      56  1013.9   \n",
       "1  18.2  21.3  14.9     6.5   2.8   5.3     9.8   16.2    78      63  1016.9   \n",
       "2  25.8  31.1  22.3     0.0   2.7   5.3    10.4   25.9    79      52  1006.5   \n",
       "3  18.4  23.0  16.2     0.0   2.8   5.2     9.4   16.7    80      53  1018.5   \n",
       "4  25.7  29.6  23.0     0.0   1.8   3.5     5.6   26.6    81      64  1015.6   \n",
       "\n",
       "   平均海面気圧  最低海面気圧  \n",
       "0  1016.7  1015.2  \n",
       "1  1019.8  1017.5  \n",
       "2  1009.3  1004.7  \n",
       "3  1021.4  1017.5  \n",
       "4  1018.4  1016.7  "
      ]
     },
     "metadata": {},
     "output_type": "display_data"
    },
    {
     "data": {
      "text/html": [
       "<div>\n",
       "<style scoped>\n",
       "    .dataframe tbody tr th:only-of-type {\n",
       "        vertical-align: middle;\n",
       "    }\n",
       "\n",
       "    .dataframe tbody tr th {\n",
       "        vertical-align: top;\n",
       "    }\n",
       "\n",
       "    .dataframe thead th {\n",
       "        text-align: right;\n",
       "    }\n",
       "</style>\n",
       "<table border=\"1\" class=\"dataframe\">\n",
       "  <thead>\n",
       "    <tr style=\"text-align: right;\">\n",
       "      <th></th>\n",
       "      <th>平均気温</th>\n",
       "      <th>最高気温</th>\n",
       "      <th>最低気温</th>\n",
       "      <th>降水量の合計</th>\n",
       "      <th>平均風速</th>\n",
       "      <th>最大風速</th>\n",
       "      <th>最大瞬間風速</th>\n",
       "      <th>平均蒸気圧</th>\n",
       "      <th>平均湿度</th>\n",
       "      <th>最小相対湿度</th>\n",
       "      <th>平均現地気圧</th>\n",
       "      <th>平均海面気圧</th>\n",
       "      <th>最低海面気圧</th>\n",
       "    </tr>\n",
       "  </thead>\n",
       "  <tbody>\n",
       "    <tr>\n",
       "      <th>0</th>\n",
       "      <td>23.3</td>\n",
       "      <td>25.2</td>\n",
       "      <td>20.7</td>\n",
       "      <td>209.5</td>\n",
       "      <td>5.5</td>\n",
       "      <td>17.8</td>\n",
       "      <td>41.5</td>\n",
       "      <td>28.0</td>\n",
       "      <td>98</td>\n",
       "      <td>70</td>\n",
       "      <td>990.7</td>\n",
       "      <td>993.5</td>\n",
       "      <td>966.8</td>\n",
       "    </tr>\n",
       "    <tr>\n",
       "      <th>1</th>\n",
       "      <td>25.2</td>\n",
       "      <td>29.7</td>\n",
       "      <td>21.4</td>\n",
       "      <td>0.0</td>\n",
       "      <td>2.2</td>\n",
       "      <td>4.2</td>\n",
       "      <td>7.8</td>\n",
       "      <td>22.2</td>\n",
       "      <td>70</td>\n",
       "      <td>38</td>\n",
       "      <td>1013.6</td>\n",
       "      <td>1016.3</td>\n",
       "      <td>1013.9</td>\n",
       "    </tr>\n",
       "    <tr>\n",
       "      <th>2</th>\n",
       "      <td>20.0</td>\n",
       "      <td>25.0</td>\n",
       "      <td>17.3</td>\n",
       "      <td>7.0</td>\n",
       "      <td>2.3</td>\n",
       "      <td>4.4</td>\n",
       "      <td>7.9</td>\n",
       "      <td>18.4</td>\n",
       "      <td>79</td>\n",
       "      <td>58</td>\n",
       "      <td>1018.5</td>\n",
       "      <td>1021.4</td>\n",
       "      <td>1017.4</td>\n",
       "    </tr>\n",
       "    <tr>\n",
       "      <th>3</th>\n",
       "      <td>26.0</td>\n",
       "      <td>30.7</td>\n",
       "      <td>20.4</td>\n",
       "      <td>3.5</td>\n",
       "      <td>5.5</td>\n",
       "      <td>11.7</td>\n",
       "      <td>21.4</td>\n",
       "      <td>28.3</td>\n",
       "      <td>85</td>\n",
       "      <td>69</td>\n",
       "      <td>1005.1</td>\n",
       "      <td>1007.9</td>\n",
       "      <td>1004.3</td>\n",
       "    </tr>\n",
       "    <tr>\n",
       "      <th>4</th>\n",
       "      <td>29.1</td>\n",
       "      <td>33.3</td>\n",
       "      <td>25.3</td>\n",
       "      <td>8.5</td>\n",
       "      <td>3.1</td>\n",
       "      <td>6.1</td>\n",
       "      <td>12.2</td>\n",
       "      <td>32.6</td>\n",
       "      <td>82</td>\n",
       "      <td>64</td>\n",
       "      <td>1008.9</td>\n",
       "      <td>1011.6</td>\n",
       "      <td>1004.6</td>\n",
       "    </tr>\n",
       "  </tbody>\n",
       "</table>\n",
       "</div>"
      ],
      "text/plain": [
       "   平均気温  最高気温  最低気温  降水量の合計  平均風速  最大風速  最大瞬間風速  平均蒸気圧  平均湿度  最小相対湿度  平均現地気圧  \\\n",
       "0  23.3  25.2  20.7   209.5   5.5  17.8    41.5   28.0    98      70   990.7   \n",
       "1  25.2  29.7  21.4     0.0   2.2   4.2     7.8   22.2    70      38  1013.6   \n",
       "2  20.0  25.0  17.3     7.0   2.3   4.4     7.9   18.4    79      58  1018.5   \n",
       "3  26.0  30.7  20.4     3.5   5.5  11.7    21.4   28.3    85      69  1005.1   \n",
       "4  29.1  33.3  25.3     8.5   3.1   6.1    12.2   32.6    82      64  1008.9   \n",
       "\n",
       "   平均海面気圧  最低海面気圧  \n",
       "0   993.5   966.8  \n",
       "1  1016.3  1013.9  \n",
       "2  1021.4  1017.4  \n",
       "3  1007.9  1004.3  \n",
       "4  1011.6  1004.6  "
      ]
     },
     "metadata": {},
     "output_type": "display_data"
    },
    {
     "data": {
      "text/html": [
       "<div>\n",
       "<style scoped>\n",
       "    .dataframe tbody tr th:only-of-type {\n",
       "        vertical-align: middle;\n",
       "    }\n",
       "\n",
       "    .dataframe tbody tr th {\n",
       "        vertical-align: top;\n",
       "    }\n",
       "\n",
       "    .dataframe thead th {\n",
       "        text-align: right;\n",
       "    }\n",
       "</style>\n",
       "<table border=\"1\" class=\"dataframe\">\n",
       "  <thead>\n",
       "    <tr style=\"text-align: right;\">\n",
       "      <th></th>\n",
       "      <th>0.0</th>\n",
       "    </tr>\n",
       "  </thead>\n",
       "  <tbody>\n",
       "    <tr>\n",
       "      <th>0</th>\n",
       "      <td>0.0</td>\n",
       "    </tr>\n",
       "    <tr>\n",
       "      <th>1</th>\n",
       "      <td>10.6</td>\n",
       "    </tr>\n",
       "    <tr>\n",
       "      <th>2</th>\n",
       "      <td>2.6</td>\n",
       "    </tr>\n",
       "    <tr>\n",
       "      <th>3</th>\n",
       "      <td>0.5</td>\n",
       "    </tr>\n",
       "    <tr>\n",
       "      <th>4</th>\n",
       "      <td>10.1</td>\n",
       "    </tr>\n",
       "  </tbody>\n",
       "</table>\n",
       "</div>"
      ],
      "text/plain": [
       "    0.0\n",
       "0   0.0\n",
       "1  10.6\n",
       "2   2.6\n",
       "3   0.5\n",
       "4  10.1"
      ]
     },
     "metadata": {},
     "output_type": "display_data"
    }
   ],
   "source": [
    "import numpy as np\n",
    "import matplotlib.pyplot as plt\n",
    "import pandas as pd\n",
    "\n",
    "df_x1=pd.read_csv(\"./X_train.csv\", sep=\",\")\n",
    "df_x1 = df_x1.drop(\"最多風向\", axis=1)\n",
    "df_x2 = pd.read_csv(\"./X_test.csv\", sep=\",\")\n",
    "df_x2 = df_x2.drop(\"最多風向\", axis=1) #風向の数値化の仕方が分かりませんでした…\n",
    "df_y = pd.read_csv(\"./y_train.csv\")\n",
    "y1 = pd.DataFrame({'0.0':0.0}, index =[0]) #初めの数値0.0がタイトル扱いのため、無理やり追加\n",
    "\n",
    "display(df_x1.head(5))\n",
    "display(df_x2.head(5))\n",
    "display(df_y.head(5))\n",
    "\n",
    "from sklearn .decomposition import PCA\n",
    "\n",
    "x_t = df_x1.values\n",
    "x_f = df_x2.values\n",
    "y = df_y.values\n",
    "x_t = (x_t - x_t.mean())/x_t.std()\n",
    "x_f = (x_f - x_f.mean())/x_f.std()\n",
    "\n",
    "n = np.size(x_t)\n",
    "\n",
    "pca = PCA(n_components =2)\n",
    "Data = pca.fit_transform(x_t)\n",
    "Test = pca.fit_transform(x_f)"
   ]
  },
  {
   "cell_type": "code",
   "execution_count": 65,
   "metadata": {},
   "outputs": [
    {
     "data": {
      "image/png": "[encoded data removed]",
      "text/plain": [
       "<Figure size 432x288 with 1 Axes>"
      ]
     },
     "metadata": {
      "needs_background": "light"
     },
     "output_type": "display_data"
    }
   ],
   "source": [
    "plt.scatter(Data[:],Data[:])\n",
    "plt.xlabel('x')\n",
    "plt.ylabel('y')\n",
    "plt.title('Plot of Data set')\n",
    "plt.show()"
   ]
  },
  {
   "cell_type": "code",
   "execution_count": 66,
   "metadata": {},
   "outputs": [],
   "source": [
    "X = Data - Data.mean()\n",
    "y = Test- Test.mean()\n",
    "\n",
    "from sklearn.model_selection import train_test_split\n",
    "\n",
    "X_train, X_test, y_train, y_test = train_test_split(X, y, test_size=0.33, random_state=42)"
   ]
  },
  {
   "cell_type": "code",
   "execution_count": 73,
   "metadata": {},
   "outputs": [
    {
     "data": {
      "text/plain": [
       "Text(0.5, 1.0, 'test')"
      ]
     },
     "execution_count": 73,
     "metadata": {},
     "output_type": "execute_result"
    },
    {
     "data": {
      "image/png": "[encoded data removed]",
      "text/plain": [
       "<Figure size 864x288 with 2 Axes>"
      ]
     },
     "metadata": {
      "needs_background": "light"
     },
     "output_type": "display_data"
    }
   ],
   "source": [
    "import matplotlib.pyplot as plt\n",
    "%matplotlib inline\n",
    "\n",
    "fig, axes = plt.subplots(ncols=2, figsize=(12, 4))\n",
    "\n",
    "axes[0].scatter(X_train, y_train, marker=\".\")\n",
    "axes[0].set_title(\"train\")\n",
    "axes[1].scatter(X_test, y_test, marker=\".\")\n",
    "axes[1].set_title(\"test\")\n",
    "#fig.show()"
   ]
  },
  {
   "cell_type": "code",
   "execution_count": 74,
   "metadata": {},
   "outputs": [
    {
     "data": {
      "text/plain": [
       "Text(0.5, 1.0, 'test')"
      ]
     },
     "execution_count": 74,
     "metadata": {},
     "output_type": "execute_result"
    },
    {
     "data": {
      "image/png": "[encoded data removed]",
      "text/plain": [
       "<Figure size 864x288 with 2 Axes>"
      ]
     },
     "metadata": {
      "needs_background": "light"
     },
     "output_type": "display_data"
    }
   ],
   "source": [
    "import numpy as np\n",
    "\n",
    "np.random.seed(0) # random　の挙動を固定\n",
    "\n",
    "p = np.random.permutation(len(X)) # random　な　index のリスト\n",
    "X = X[p]\n",
    "y = y[p]\n",
    "\n",
    "X_train = X[:1000, :]\n",
    "y_train = y[:1000]\n",
    "X_test = X[:1000, :]\n",
    "y_test = y[:1000]\n",
    "\n",
    "fig, axes = plt.subplots(ncols=2, figsize=(12, 4))\n",
    "\n",
    "axes[0].scatter(X_train, y_train, marker=\".\")\n",
    "axes[0].set_title(\"train\")\n",
    "axes[1].scatter(X_test, y_test, marker=\".\")\n",
    "axes[1].set_title(\"test\")\n",
    "#fig.show()"
   ]
  },
  {
   "cell_type": "code",
   "execution_count": 102,
   "metadata": {},
   "outputs": [],
   "source": [
    "n = len(X)\n",
    "\n",
    "class MyRegression:\n",
    "    def __init__(self):\n",
    "        pass\n",
    "    def calculation():\n",
    "        numerator = 0\n",
    "        denominator = 0\n",
    "        for i in range(n):\n",
    "            numerator += (X[i] - np.mean(X)) * (y[i] - np.mean(y))\n",
    "            denominator += (X[i] - np.mean(X)) ** 2\n",
    "    \n",
    "        b1 = numerator / denominator\n",
    "        b0 = np.mean(y) - (b1 * np.mean(X))\n",
    "\n",
    "        print(\"coef:\",b1, \"intercept:\",b0)\n",
    "\n",
    "        #plotting values \n",
    "        x_max = np.max(X) + 100\n",
    "        x_min = np.min(X) - 100\n",
    "\n",
    "        #calculating line values of x and y\n",
    "        x = np.linspace(x_min, x_max, 1000)\n",
    "        y1 = b0[0] + b1[0]* x\n",
    "        y2 = b0[1] + b1[1]* x\n",
    "        \n",
    "        m0 = (b0[0]+b0[1])/2\n",
    "        m1 = (b1[0]+b1[1])/2\n",
    "        \n",
    "        z = m0 + m1*x\n",
    "        \n",
    "        return x, y1,y2, z\n",
    "    "
   ]
  },
  {
   "cell_type": "code",
   "execution_count": 103,
   "metadata": {},
   "outputs": [
    {
     "data": {
      "text/plain": [
       "<matplotlib.collections.PathCollection at 0x1a20e67ef0>"
      ]
     },
     "execution_count": 103,
     "metadata": {},
     "output_type": "execute_result"
    },
    {
     "data": {
      "image/png": "[encoded data removed]",
      "text/plain": [
       "<Figure size 432x288 with 1 Axes>"
      ]
     },
     "metadata": {
      "needs_background": "light"
     },
     "output_type": "display_data"
    }
   ],
   "source": [
    "plt.scatter(X, y, color='blue', label='Data Point')"
   ]
  },
  {
   "cell_type": "code",
   "execution_count": 104,
   "metadata": {},
   "outputs": [
    {
     "name": "stdout",
     "output_type": "stream",
     "text": [
      "coef: [-0.24883502 -0.02080745] intercept: [-1.48690584e-18 -1.48690584e-18]\n"
     ]
    },
    {
     "data": {
      "image/png": "[encoded data removed]",
      "text/plain": [
       "<Figure size 432x288 with 1 Axes>"
      ]
     },
     "metadata": {
      "needs_background": "light"
     },
     "output_type": "display_data"
    }
   ],
   "source": [
    "clf = MyRegression\n",
    "x, y1, y2, z = clf.calculation()\n",
    "\n",
    "plt.axis([-0.1,0.3,-0.1,0.6])\n",
    "#plot the data point\n",
    "plt.scatter(X, y, color='blue', label='Data Point')\n",
    "#plotting line \n",
    "plt.plot(x, y1, color='purple')\n",
    "plt.plot(x, y2, color='green')\n",
    "plt.plot(x, z, color='red')\n",
    "\n",
    "plt.xlabel('x')\n",
    "plt.ylabel('y')\n",
    "plt.show()"
   ]
  },
  {
   "cell_type": "code",
   "execution_count": null,
   "metadata": {},
   "outputs": [],
   "source": []
  }
 ],
 "metadata": {
  "kernelspec": {
   "display_name": "Python 3",
   "language": "python",
   "name": "python3"
  },
  "language_info": {
   "codemirror_mode": {
    "name": "ipython",
    "version": 3
   },
   "file_extension": ".py",
   "mimetype": "text/x-python",
   "name": "python",
   "nbconvert_exporter": "python",
   "pygments_lexer": "ipython3",
   "version": "3.7.3"
  }
 },
 "nbformat": 4,
 "nbformat_minor": 2
}
